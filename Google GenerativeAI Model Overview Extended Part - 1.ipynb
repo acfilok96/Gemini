{
  "nbformat": 4,
  "nbformat_minor": 0,
  "metadata": {
    "colab": {
      "provenance": []
    },
    "kernelspec": {
      "name": "python3",
      "display_name": "Python 3"
    },
    "language_info": {
      "name": "python"
    }
  },
  "cells": [
    {
      "cell_type": "code",
      "execution_count": 56,
      "metadata": {
        "id": "acNTOBo9ARj_"
      },
      "outputs": [],
      "source": [
        "!pip install -q google-generativeai"
      ]
    },
    {
      "cell_type": "code",
      "source": [
        "import google.generativeai as genai\n",
        "\n",
        "from google.colab import userdata\n",
        "GOOGLE_API_KEY = userdata.get('GOOGLE_API_KEY')\n",
        "\n",
        "genai.configure(api_key = GOOGLE_API_KEY)\n",
        "\n",
        "# model = genai.GenerativeModel('gemini-pro')\n",
        "# model = genai.GenerativeModel('embedding-001')"
      ],
      "metadata": {
        "id": "2PGiSg9yAXTE"
      },
      "execution_count": 57,
      "outputs": []
    },
    {
      "cell_type": "code",
      "source": [
        "[model.name for model in genai.list_models()]"
      ],
      "metadata": {
        "colab": {
          "base_uri": "https://localhost:8080/",
          "height": 208
        },
        "id": "nysgXHX6DMEn",
        "outputId": "cf6a538b-172c-4983-bc7f-855281d19d76"
      },
      "execution_count": 58,
      "outputs": [
        {
          "output_type": "execute_result",
          "data": {
            "text/plain": [
              "['models/chat-bison-001',\n",
              " 'models/text-bison-001',\n",
              " 'models/embedding-gecko-001',\n",
              " 'models/gemini-1.0-pro',\n",
              " 'models/gemini-1.0-pro-001',\n",
              " 'models/gemini-1.0-pro-latest',\n",
              " 'models/gemini-1.0-pro-vision-latest',\n",
              " 'models/gemini-pro',\n",
              " 'models/gemini-pro-vision',\n",
              " 'models/embedding-001',\n",
              " 'models/aqa']"
            ]
          },
          "metadata": {},
          "execution_count": 58
        }
      ]
    },
    {
      "cell_type": "code",
      "source": [
        "model = genai.GenerativeModel('gemini-pro')"
      ],
      "metadata": {
        "id": "L75FELSSAXPt"
      },
      "execution_count": 59,
      "outputs": []
    },
    {
      "cell_type": "code",
      "source": [
        "model.__dir__()"
      ],
      "metadata": {
        "colab": {
          "base_uri": "https://localhost:8080/"
        },
        "id": "u6c_VQIHDzoh",
        "outputId": "20583f3f-e0a4-4a83-f633-05de96180da5"
      },
      "execution_count": 60,
      "outputs": [
        {
          "output_type": "execute_result",
          "data": {
            "text/plain": [
              "['_model_name',\n",
              " '_safety_settings',\n",
              " '_generation_config',\n",
              " '_tools',\n",
              " '_client',\n",
              " '_async_client',\n",
              " '__module__',\n",
              " '__doc__',\n",
              " '__init__',\n",
              " 'model_name',\n",
              " '__str__',\n",
              " '__repr__',\n",
              " '_prepare_request',\n",
              " 'generate_content',\n",
              " 'generate_content_async',\n",
              " 'count_tokens',\n",
              " 'count_tokens_async',\n",
              " 'start_chat',\n",
              " '__dict__',\n",
              " '__weakref__',\n",
              " '__new__',\n",
              " '__hash__',\n",
              " '__getattribute__',\n",
              " '__setattr__',\n",
              " '__delattr__',\n",
              " '__lt__',\n",
              " '__le__',\n",
              " '__eq__',\n",
              " '__ne__',\n",
              " '__gt__',\n",
              " '__ge__',\n",
              " '__reduce_ex__',\n",
              " '__reduce__',\n",
              " '__subclasshook__',\n",
              " '__init_subclass__',\n",
              " '__format__',\n",
              " '__sizeof__',\n",
              " '__dir__',\n",
              " '__class__']"
            ]
          },
          "metadata": {},
          "execution_count": 60
        }
      ]
    },
    {
      "cell_type": "code",
      "source": [
        "model._generation_config"
      ],
      "metadata": {
        "colab": {
          "base_uri": "https://localhost:8080/"
        },
        "id": "l1Rf-H7CEoG_",
        "outputId": "a3ae1740-f2a5-47f9-935b-47ca5a2af502"
      },
      "execution_count": 61,
      "outputs": [
        {
          "output_type": "execute_result",
          "data": {
            "text/plain": [
              "{}"
            ]
          },
          "metadata": {},
          "execution_count": 61
        }
      ]
    },
    {
      "cell_type": "code",
      "source": [
        "MODEL_CONFIGURATION = {\n",
        "    \"temperature\" : 0.0,\n",
        "    \"top_p\" : 1,\n",
        "    \"top_k\" : 1,\n",
        "    \"max_output_tokens\" : 400,\n",
        "    }\n",
        "\n",
        "model._generation_config = MODEL_CONFIGURATION\n",
        "\n",
        "model._generation_config"
      ],
      "metadata": {
        "colab": {
          "base_uri": "https://localhost:8080/"
        },
        "id": "7z1wF8YQGn7m",
        "outputId": "4b5b0ecb-646f-4794-ace3-788a01e9865d"
      },
      "execution_count": 62,
      "outputs": [
        {
          "output_type": "execute_result",
          "data": {
            "text/plain": [
              "{'temperature': 0.0, 'top_p': 1, 'top_k': 1, 'max_output_tokens': 400}"
            ]
          },
          "metadata": {},
          "execution_count": 62
        }
      ]
    },
    {
      "cell_type": "code",
      "source": [
        "model._safety_settings"
      ],
      "metadata": {
        "colab": {
          "base_uri": "https://localhost:8080/"
        },
        "id": "4TnMq5IKEhbu",
        "outputId": "7149de00-ff2e-45eb-eeff-b5111c762936"
      },
      "execution_count": 63,
      "outputs": [
        {
          "output_type": "execute_result",
          "data": {
            "text/plain": [
              "{}"
            ]
          },
          "metadata": {},
          "execution_count": 63
        }
      ]
    },
    {
      "cell_type": "code",
      "source": [
        "safety_settings = [\n",
        "        {\n",
        "            \"category\": \"HARM_CATEGORY_DANGEROUS\",\n",
        "            \"threshold\": \"BLOCK_NONE\",\n",
        "        },\n",
        "        {\n",
        "            \"category\" : \"HARM_CATEGORY_HARASSMENT\",\n",
        "            \"threshold\" : \"BLOCK_NONE\", # \"BLOCK_MEDIUM_AND_ABOVE\"\n",
        "        },\n",
        "        {\n",
        "            \"category\" : \"HARM_CATEGORY_HATE_SPEECH\",\n",
        "            \"threshold\" : \"BLOCK_NONE\", # \"BLOCK_MEDIUM_AND_ABOVE\"\n",
        "        },\n",
        "        {\n",
        "            \"category\" : \"HARM_CATEGORY_SEXUALLY_EXPLICIT\",\n",
        "            \"threshold\" : \"BLOCK_NONE\", # \"BLOCK_MEDIUM_AND_ABOVE\"\n",
        "        },\n",
        "        {\n",
        "            \"category\" : \"HARM_CATEGORY_DANGEROUS_CONTENT\",\n",
        "            \"threshold\" : \"BLOCK_NONE\", # \"BLOCK_MEDIUM_AND_ABOVE\"\n",
        "        }\n",
        "    ]\n",
        "\n",
        "model._safety_settings = safety_settings\n",
        "\n",
        "model._generation_config"
      ],
      "metadata": {
        "colab": {
          "base_uri": "https://localhost:8080/"
        },
        "id": "CSsSjhoQGPMZ",
        "outputId": "4191be00-9cd5-4e0a-854a-0f744312c849"
      },
      "execution_count": 64,
      "outputs": [
        {
          "output_type": "execute_result",
          "data": {
            "text/plain": [
              "{'temperature': 0.0, 'top_p': 1, 'top_k': 1, 'max_output_tokens': 400}"
            ]
          },
          "metadata": {},
          "execution_count": 64
        }
      ]
    },
    {
      "cell_type": "code",
      "source": [
        "model._model_name"
      ],
      "metadata": {
        "colab": {
          "base_uri": "https://localhost:8080/",
          "height": 35
        },
        "id": "w1zO_v9DEsla",
        "outputId": "344b6a89-5231-452f-da5f-28639c062b11"
      },
      "execution_count": 65,
      "outputs": [
        {
          "output_type": "execute_result",
          "data": {
            "text/plain": [
              "'models/gemini-pro'"
            ],
            "application/vnd.google.colaboratory.intrinsic+json": {
              "type": "string"
            }
          },
          "metadata": {},
          "execution_count": 65
        }
      ]
    },
    {
      "cell_type": "code",
      "source": [
        "model._model_name = \"gemini-1.0-pro\"\n",
        "\n",
        "model.model_name"
      ],
      "metadata": {
        "colab": {
          "base_uri": "https://localhost:8080/",
          "height": 35
        },
        "id": "3GXIKPD2Ez3k",
        "outputId": "52c12c53-2121-4759-c9f5-fde8c5fb1806"
      },
      "execution_count": 66,
      "outputs": [
        {
          "output_type": "execute_result",
          "data": {
            "text/plain": [
              "'gemini-1.0-pro'"
            ],
            "application/vnd.google.colaboratory.intrinsic+json": {
              "type": "string"
            }
          },
          "metadata": {},
          "execution_count": 66
        }
      ]
    },
    {
      "cell_type": "code",
      "source": [
        "model._tools"
      ],
      "metadata": {
        "colab": {
          "base_uri": "https://localhost:8080/"
        },
        "id": "c0J4njN0E2ZX",
        "outputId": "1d1b0473-3cf1-470e-a184-2078bb579af0"
      },
      "execution_count": 67,
      "outputs": [
        {
          "output_type": "execute_result",
          "data": {
            "text/plain": [
              "[]"
            ]
          },
          "metadata": {},
          "execution_count": 67
        }
      ]
    },
    {
      "cell_type": "code",
      "source": [
        "model._prepare_request"
      ],
      "metadata": {
        "colab": {
          "base_uri": "https://localhost:8080/",
          "height": 156
        },
        "id": "Qo7nD-rXE5wj",
        "outputId": "23ddec15-c67e-4a0f-80b1-48a53849e5b7"
      },
      "execution_count": 68,
      "outputs": [
        {
          "output_type": "execute_result",
          "data": {
            "text/plain": [
              "<bound method GenerativeModel._prepare_request of  genai.GenerativeModel(\n",
              "   model_name='gemini-1.0-pro',\n",
              "   generation_config={'temperature': 0.0, 'top_p': 1, 'top_k': 1, 'max_output_tokens': 400}.\n",
              "   safety_settings=[{'category': 'HARM_CATEGORY_DANGEROUS', 'threshold': 'BLOCK_NONE'}, {'category': 'HARM_CATEGORY_HARASSMENT', 'threshold': 'BLOCK_NONE'}, {'category': 'HARM_CATEGORY_HATE_SPEECH', 'threshold': 'BLOCK_NONE'}, {'category': 'HARM_CATEGORY_SEXUALLY_EXPLICIT', 'threshold': 'BLOCK_NONE'}, {'category': 'HARM_CATEGORY_DANGEROUS_CONTENT', 'threshold': 'BLOCK_NONE'}]\n",
              ")>"
            ],
            "text/html": [
              "<div style=\"max-width:800px; border: 1px solid var(--colab-border-color);\"><style>\n",
              "      pre.function-repr-contents {\n",
              "        overflow-x: auto;\n",
              "        padding: 8px 12px;\n",
              "        max-height: 500px;\n",
              "      }\n",
              "\n",
              "      pre.function-repr-contents.function-repr-contents-collapsed {\n",
              "        cursor: pointer;\n",
              "        max-height: 100px;\n",
              "      }\n",
              "    </style>\n",
              "    <pre style=\"white-space: initial; background:\n",
              "         var(--colab-secondary-surface-color); padding: 8px 12px;\n",
              "         border-bottom: 1px solid var(--colab-border-color);\"><b>google.generativeai.generative_models.GenerativeModel._prepare_request</b><br/>def _prepare_request(*, contents: content_types.ContentsType, generation_config: generation_types.GenerationConfigType | None=None, safety_settings: safety_types.SafetySettingOptions | None=None, **kwargs) -&gt; glm.GenerateContentRequest</pre><pre class=\"function-repr-contents function-repr-contents-collapsed\" style=\"\"><a class=\"filepath\" style=\"display:none\" href=\"#\">/usr/local/lib/python3.10/dist-packages/google/generativeai/generative_models.py</a>Creates a `glm.GenerateContentRequest` from raw inputs.</pre>\n",
              "      <script>\n",
              "      if (google.colab.kernel.accessAllowed && google.colab.files && google.colab.files.view) {\n",
              "        for (const element of document.querySelectorAll('.filepath')) {\n",
              "          element.style.display = 'block'\n",
              "          element.onclick = (event) => {\n",
              "            event.preventDefault();\n",
              "            event.stopPropagation();\n",
              "            google.colab.files.view(element.textContent, 192);\n",
              "          };\n",
              "        }\n",
              "      }\n",
              "      for (const element of document.querySelectorAll('.function-repr-contents')) {\n",
              "        element.onclick = (event) => {\n",
              "          event.preventDefault();\n",
              "          event.stopPropagation();\n",
              "          element.classList.toggle('function-repr-contents-collapsed');\n",
              "        };\n",
              "      }\n",
              "      </script>\n",
              "      </div>"
            ]
          },
          "metadata": {},
          "execution_count": 68
        }
      ]
    },
    {
      "cell_type": "code",
      "source": [
        "model.count_tokens"
      ],
      "metadata": {
        "colab": {
          "base_uri": "https://localhost:8080/",
          "height": 121
        },
        "id": "8W3Gk5PRE5tG",
        "outputId": "eae6b7b7-4d51-468c-9b56-b56a832b40af"
      },
      "execution_count": 69,
      "outputs": [
        {
          "output_type": "execute_result",
          "data": {
            "text/plain": [
              "<bound method GenerativeModel.count_tokens of  genai.GenerativeModel(\n",
              "   model_name='gemini-1.0-pro',\n",
              "   generation_config={'temperature': 0.0, 'top_p': 1, 'top_k': 1, 'max_output_tokens': 400}.\n",
              "   safety_settings=[{'category': 'HARM_CATEGORY_DANGEROUS', 'threshold': 'BLOCK_NONE'}, {'category': 'HARM_CATEGORY_HARASSMENT', 'threshold': 'BLOCK_NONE'}, {'category': 'HARM_CATEGORY_HATE_SPEECH', 'threshold': 'BLOCK_NONE'}, {'category': 'HARM_CATEGORY_SEXUALLY_EXPLICIT', 'threshold': 'BLOCK_NONE'}, {'category': 'HARM_CATEGORY_DANGEROUS_CONTENT', 'threshold': 'BLOCK_NONE'}]\n",
              ")>"
            ],
            "text/html": [
              "<div style=\"max-width:800px; border: 1px solid var(--colab-border-color);\"><style>\n",
              "      pre.function-repr-contents {\n",
              "        overflow-x: auto;\n",
              "        padding: 8px 12px;\n",
              "        max-height: 500px;\n",
              "      }\n",
              "\n",
              "      pre.function-repr-contents.function-repr-contents-collapsed {\n",
              "        cursor: pointer;\n",
              "        max-height: 100px;\n",
              "      }\n",
              "    </style>\n",
              "    <pre style=\"white-space: initial; background:\n",
              "         var(--colab-secondary-surface-color); padding: 8px 12px;\n",
              "         border-bottom: 1px solid var(--colab-border-color);\"><b>google.generativeai.generative_models.GenerativeModel.count_tokens</b><br/>def count_tokens(contents: content_types.ContentsType) -&gt; glm.CountTokensResponse</pre><pre class=\"function-repr-contents function-repr-contents-collapsed\" style=\"\"><a class=\"filepath\" style=\"display:none\" href=\"#\">/usr/local/lib/python3.10/dist-packages/google/generativeai/generative_models.py</a>&lt;no docstring&gt;</pre>\n",
              "      <script>\n",
              "      if (google.colab.kernel.accessAllowed && google.colab.files && google.colab.files.view) {\n",
              "        for (const element of document.querySelectorAll('.filepath')) {\n",
              "          element.style.display = 'block'\n",
              "          element.onclick = (event) => {\n",
              "            event.preventDefault();\n",
              "            event.stopPropagation();\n",
              "            google.colab.files.view(element.textContent, 279);\n",
              "          };\n",
              "        }\n",
              "      }\n",
              "      for (const element of document.querySelectorAll('.function-repr-contents')) {\n",
              "        element.onclick = (event) => {\n",
              "          event.preventDefault();\n",
              "          event.stopPropagation();\n",
              "          element.classList.toggle('function-repr-contents-collapsed');\n",
              "        };\n",
              "      }\n",
              "      </script>\n",
              "      </div>"
            ]
          },
          "metadata": {},
          "execution_count": 69
        }
      ]
    },
    {
      "cell_type": "code",
      "source": [
        "model"
      ],
      "metadata": {
        "colab": {
          "base_uri": "https://localhost:8080/"
        },
        "id": "-pkkwy-yHxWY",
        "outputId": "19b0aa97-9137-4252-ac98-0a93cf3a77cc"
      },
      "execution_count": 73,
      "outputs": [
        {
          "output_type": "execute_result",
          "data": {
            "text/plain": [
              " genai.GenerativeModel(\n",
              "   model_name='gemini-1.0-pro',\n",
              "   generation_config={'temperature': 0.0, 'top_p': 1, 'top_k': 1, 'max_output_tokens': 400}.\n",
              "   safety_settings=[{'category': 'HARM_CATEGORY_DANGEROUS', 'threshold': 'BLOCK_NONE'}, {'category': 'HARM_CATEGORY_HARASSMENT', 'threshold': 'BLOCK_NONE'}, {'category': 'HARM_CATEGORY_HATE_SPEECH', 'threshold': 'BLOCK_NONE'}, {'category': 'HARM_CATEGORY_SEXUALLY_EXPLICIT', 'threshold': 'BLOCK_NONE'}, {'category': 'HARM_CATEGORY_DANGEROUS_CONTENT', 'threshold': 'BLOCK_NONE'}]\n",
              ")"
            ]
          },
          "metadata": {},
          "execution_count": 73
        }
      ]
    },
    {
      "cell_type": "markdown",
      "source": [
        "                                     -: END :-"
      ],
      "metadata": {
        "id": "1VcCWymHH4uG"
      }
    }
  ]
}